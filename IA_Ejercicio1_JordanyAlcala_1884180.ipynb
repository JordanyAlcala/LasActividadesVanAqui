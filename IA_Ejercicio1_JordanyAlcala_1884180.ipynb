{
  "nbformat": 4,
  "nbformat_minor": 0,
  "metadata": {
    "colab": {
      "name": "Untitled1.ipynb",
      "provenance": [],
      "collapsed_sections": []
    },
    "kernelspec": {
      "name": "python3",
      "display_name": "Python 3"
    },
    "language_info": {
      "name": "python"
    }
  },
  "cells": [
    {
      "cell_type": "code",
      "execution_count": 74,
      "metadata": {
        "colab": {
          "base_uri": "https://localhost:8080/"
        },
        "id": "twRv27dxF2g0",
        "outputId": "4f361781-a72f-46be-da77-62171f8584e8"
      },
      "outputs": [
        {
          "output_type": "stream",
          "name": "stdout",
          "text": [
            "introduce tu nombre: Jordany\n",
            "Hola Jordany. Que tentas un buen dia.\n"
          ]
        }
      ],
      "source": [
        "#Escribe un programa que le pida al usuario por su nombre y que lo salude con su nombre, excepto si se llama “Ana”, “Juan”, y “Pedro”.\n",
        "\n",
        "nombre = input (\"introduce tu nombre: \")\n",
        "if nombre == \"Ana\" or  nombre == \"Juan\" or  nombre == \"Pedro\":\n",
        " print(\"\")\n",
        "else:\n",
        " print(\"Hola \" + nombre + \". Que tentas un buen dia.\")"
      ]
    },
    {
      "cell_type": "code",
      "source": [
        "#Escribe una función que regrese el último elemento de una lista y que revierta el orden de la lista e imprima la lista revertida.\n",
        "\n",
        "lista = [\"pluma\", \"lapiz\", \"libreta\", \"libro\", \"sacapuntas\"]\n",
        "for i in reversed(lista):\n",
        "    print(i);"
      ],
      "metadata": {
        "colab": {
          "base_uri": "https://localhost:8080/"
        },
        "id": "fvpRjvYiN7wj",
        "outputId": "53251f40-ee83-4020-d3d5-7004262813ba"
      },
      "execution_count": null,
      "outputs": [
        {
          "output_type": "stream",
          "name": "stdout",
          "text": [
            "sacapuntas\n",
            "libro\n",
            "libreta\n",
            "lapiz\n",
            "pluma\n"
          ]
        }
      ]
    },
    {
      "cell_type": "code",
      "source": [
        "#Escribe una función que toma una lista de strings y los imprima línea por línea en un marco rectangular. Por ejemplo, la lista [“Hola”, “a”, “todos”, “esto”, “es”, “un”, “marco”] se imprime:\n",
        "\n",
        "\n",
        "\n",
        "#   **********\n",
        "#   * Hola   *\n",
        "#   * a      *\n",
        "#   * todos  *\n",
        "#   * esto   *\n",
        "#   * es     *\n",
        "#   * un     *\n",
        "#   * marco  *\n",
        "#   **********\n",
        "\n",
        "margen= [\"********\",\"* Hola *\",\"*  a   *\",\"* todos*\",\"*  me  *\",\"* llamo*\",\"*jordany*\",\"*  y   *\",\"* esta *\",\"*  es  *\",\"*  mi  *\", \"* tarea*\", \"********\" ] \n",
        "for x in margen:\n",
        "  print (x)"
      ],
      "metadata": {
        "colab": {
          "base_uri": "https://localhost:8080/"
        },
        "id": "0w6EBb-Yfm35",
        "outputId": "6fd7151b-e7c8-4edd-cb2c-049307ab5caf"
      },
      "execution_count": null,
      "outputs": [
        {
          "output_type": "stream",
          "name": "stdout",
          "text": [
            "********\n",
            "* Hola *\n",
            "*  a   *\n",
            "* todos*\n",
            "*  me  *\n",
            "* llamo*\n",
            "*jordany*\n",
            "*  y   *\n",
            "* esta *\n",
            "*  es  *\n",
            "*  mi  *\n",
            "* tarea*\n",
            "********\n"
          ]
        }
      ]
    }
  ]
}